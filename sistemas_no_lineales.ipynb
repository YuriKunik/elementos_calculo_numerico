{
 "cells": [
  {
   "cell_type": "code",
   "execution_count": 1,
   "metadata": {},
   "outputs": [],
   "source": [
    "import numpy as np"
   ]
  },
  {
   "cell_type": "markdown",
   "metadata": {},
   "source": [
    "# Resolución de ecuaciones no lineales\n",
    "\n",
    "El objetivo de ésta sección va a ser la resolución de ecuaciones de la forma $f(r) = 0$ con $f: \\mathbb{R} \\to \\mathbb{R}$. Existen distintos métodos para resolver estos problemas, a continuación recorreremos los más utilizados.\n",
    "\n",
    "## 1. Método de bisección\n",
    "\n",
    "Basandose fuertemente en el teorema de bolzano, el método de bisección busca armar una sucesión convergente $(x_k)_{k \\in \\mathbb{N}}$ de la siguiente manera:\n",
    "\n",
    "Teniando que $f(a)f(b) < 0$ (hay una raiz en el intervalo $(a,b)$), armamos una sucesión de intervalos $(a_k, b_k)$\n",
    "$$\n",
    "a_{k+1} = \n",
    "\\begin{cases}\n",
    "   a_k &\\quad \\text{si } f(a_k)f(\\frac{a_k+b_k}{2}) > 0 \\\\\n",
    "   \\frac{a_k+b_k}{2} &\\quad \\text{si no}\n",
    "\\end{cases}\n",
    "\\\\\n",
    "\\\\\n",
    "b_{k+1} = \n",
    "\\begin{cases}\n",
    "   b_k &\\quad \\text{si } f(b_k)f(\\frac{a_k+b_k}{2}) > 0 \\\\\n",
    "   \\frac{a_k+b_k}{2} &\\quad \\text{si no}\n",
    "\\end{cases}\n",
    "$$\n",
    "\n",
    "Así conseguimos una sucesión de intervalos cuya longitud tiende a $0$ siendo la misma $(b-a)/2^k$ en el $k$-ésimo paso."
   ]
  },
  {
   "cell_type": "code",
   "execution_count": 2,
   "metadata": {},
   "outputs": [],
   "source": [
    "def metodo_biseccion(a, b, f, n_iter=1000):\n",
    "    if f(a) * f(b) > 0:\n",
    "        print(\"No se puede aplicar el método de bisección\")\n",
    "        return\n",
    "    c = (a + b) / 2\n",
    "    for i in range(n_iter):\n",
    "        if f(c) == 0:\n",
    "            return c\n",
    "        elif f(a) * f(c) < 0:\n",
    "            b = c\n",
    "        else:\n",
    "            a = c\n",
    "        c = (a + b) / 2\n",
    "    return c"
   ]
  },
  {
   "cell_type": "code",
   "execution_count": 10,
   "metadata": {},
   "outputs": [
    {
     "name": "stdout",
     "output_type": "stream",
     "text": [
      "Verificando el teorema de Bolzano\n",
      "-1\n",
      "7\n",
      "Aproximación bisección: 1.414213562373095\n",
      "f(c): -4.440892098500626e-16\n"
     ]
    }
   ],
   "source": [
    "def funcion(x):\n",
    "    return x**2 - 2\n",
    "\n",
    "print(\"Verificando el teorema de Bolzano\")\n",
    "print(funcion(1))\n",
    "print(funcion(3))\n",
    "\n",
    "c = metodo_biseccion(1, 3, funcion)\n",
    "\n",
    "print(\"Aproximación bisección:\", c)\n",
    "print(\"f(c):\",funcion(c))"
   ]
  },
  {
   "cell_type": "markdown",
   "metadata": {},
   "source": [
    "## 2. Método regula falsi\n",
    "\n",
    "Supongamos dadas una función $f$, un intervalo $(a, b)$ tal que $f$ tenga una única raiz. El esquema del método es tomar la recta que une $(a, f(a))$ y $(b, f(b)) e intersecarla con el eje $x$. Con esto tomamos $x_1$ y repetimos el paso anterior pero cambiando la recta. Si $f(a)f(x_1) < 0$ la recta es la que une $(a, f(a))$ con $(x_1, f(x_1))$ en el caso contrario, tenemos la recta que une $(x_1, f(x_1))$ con $(b, f(b))$. Volvemos a intersecar con el eje $x$ y obtenemos $x_2$. La ecuación de la intersección de una recta que une dos puntos con el eje x viene dada por:\n",
    "$$\n",
    "x = \\frac{af(b)-bf(a)}{f(b)-f(a)}\n",
    "$$\n"
   ]
  },
  {
   "cell_type": "code",
   "execution_count": 12,
   "metadata": {},
   "outputs": [],
   "source": [
    "def metodo_regula_falsi(a, b, f, n_iter=1000):\n",
    "    if f(a) * f(b) > 0:\n",
    "        print(\"No se puede aplicar el método de regula falsi\")\n",
    "        return\n",
    "    for i in range(n_iter):\n",
    "        c = (a * f(b) - b * f(a)) / (f(b) - f(a))\n",
    "        if f(c) == 0:\n",
    "            return c\n",
    "        elif f(a) * f(c) < 0:\n",
    "            b = c\n",
    "        else:\n",
    "            a = c\n",
    "    return c"
   ]
  },
  {
   "cell_type": "code",
   "execution_count": 13,
   "metadata": {},
   "outputs": [
    {
     "name": "stdout",
     "output_type": "stream",
     "text": [
      "Verificando el teorema de Bolzano\n",
      "-1\n",
      "7\n",
      "Aproximación regula falsi: 1.414213562373095\n",
      "f(c): -4.440892098500626e-16\n"
     ]
    }
   ],
   "source": [
    "def funcion(x):\n",
    "    return x**2 - 2\n",
    "\n",
    "print(\"Verificando el teorema de Bolzano\")\n",
    "print(funcion(1))\n",
    "print(funcion(3))\n",
    "\n",
    "c = metodo_regula_falsi(1, 3, funcion)\n",
    "\n",
    "print(\"Aproximación regula falsi:\", c)\n",
    "print(\"f(c):\",funcion(c))\n"
   ]
  },
  {
   "cell_type": "markdown",
   "metadata": {},
   "source": [
    "## 3. Método de Newton-Raphson\n",
    "\n",
    "Sea $f: [a,b] \\to \\mathbb{R}$ una función derivable, $x_0 \\in [a,b]$ armamos la sucesión de la siguiente manera\n",
    "\n",
    "$$\n",
    "x_{n+1} = x_n - \\frac{f(x_n)}{f^\\prime(x_n)}.\n",
    "$$\n",
    "\n",
    "Si $f^\\prime(x_n)=0$ el método se rompe."
   ]
  },
  {
   "cell_type": "code",
   "execution_count": 17,
   "metadata": {},
   "outputs": [],
   "source": [
    "def metodo_newton_raphson(x0, f, df, n_iter=1000):\n",
    "    for i in range(n_iter):\n",
    "        x0 = x0 - f(x0) / df(x0)\n",
    "    return x0"
   ]
  },
  {
   "cell_type": "code",
   "execution_count": 18,
   "metadata": {},
   "outputs": [
    {
     "name": "stdout",
     "output_type": "stream",
     "text": [
      "Aproximación Newton-Raphson: 1.414213562373095\n",
      "f(c): -4.440892098500626e-16\n"
     ]
    }
   ],
   "source": [
    "def funcion(x):\n",
    "    return x**2 - 2\n",
    "\n",
    "def derivada(x):\n",
    "    return 2 * x\n",
    "\n",
    "c = metodo_newton_raphson(1, funcion, derivada)\n",
    "\n",
    "print(\"Aproximación Newton-Raphson:\", c)\n",
    "print(\"f(c):\",funcion(c))\n"
   ]
  },
  {
   "cell_type": "markdown",
   "metadata": {},
   "source": [
    "## 4. Método del punto fijo\n",
    "\n",
    "En el caso del método de punto fijo vamos a buscar soluciones a ecuaciones de la forma $g(x) = x$. Siempre que podamos despejar la variable de las ecuaciones $f(x) = 0$ encontrar una solución de una nos va a dar una solución de la otra. Para punto fijo la sucesión es\n",
    "\n",
    "$$\n",
    "x_{n+1} = g(x_n)\n",
    "$$\n",
    "\n",
    "Para garantizar la existencia y unicidad del problema tenemos:\n",
    "1. $g([a, b]) \\subset [a,b]$ entonces existen puntos fijos,\n",
    "2. si además g es derivable y $g^\\prime(x) \\leq \\lambda < 1$ para todo $x$ en el intervalo el punto fijo es único."
   ]
  }
 ],
 "metadata": {
  "kernelspec": {
   "display_name": "Python 3",
   "language": "python",
   "name": "python3"
  },
  "language_info": {
   "codemirror_mode": {
    "name": "ipython",
    "version": 3
   },
   "file_extension": ".py",
   "mimetype": "text/x-python",
   "name": "python",
   "nbconvert_exporter": "python",
   "pygments_lexer": "ipython3",
   "version": "3.11.6"
  }
 },
 "nbformat": 4,
 "nbformat_minor": 5
}
