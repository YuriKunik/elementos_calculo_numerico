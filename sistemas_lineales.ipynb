{
 "cells": [
  {
   "cell_type": "code",
   "execution_count": 2,
   "metadata": {},
   "outputs": [],
   "source": [
    "import numpy as np"
   ]
  },
  {
   "cell_type": "markdown",
   "metadata": {},
   "source": [
    "# Resolución de sistemas lineales\n",
    "\n",
    "## 1 Métodos directos\n",
    "\n",
    "### 1.1 Triangulación de Gauss\n",
    "El objetivo de este metodo va a ser escribir una matriz $A$ inversible como un productoo de matrices $A = LU$ con $L$ triangular inferior y $U$ triangular superior.\n",
    "Para esto vamos a armar $N$ matrices $L_i$\n"
   ]
  },
  {
   "cell_type": "code",
   "execution_count": 94,
   "metadata": {},
   "outputs": [],
   "source": [
    "def get_matrices_gauss(matriz):\n",
    "    matrices_gauss = []\n",
    "    matriz_producto = matriz.copy()\n",
    "    for i in range(len(matriz)-1):\n",
    "        matriz_L = np.identity(len(matriz))\n",
    "        for j in range(i+1, len(matriz)):\n",
    "            m = - matriz_producto[j][i] / matriz_producto[i][i]\n",
    "            matriz_L[j][i] = m\n",
    "        matriz_producto = (matriz_L@matriz_producto)\n",
    "        matrices_gauss.append(matriz_L)\n",
    "    return matrices_gauss, matriz_producto\n",
    "\n",
    "def inversa_matriz_L(matriz_L):\n",
    "    n = len(matriz_L)\n",
    "    inv_matriz_L = matriz_L.copy()\n",
    "    for i in range(n):\n",
    "        for j in range(i):\n",
    "            inv_matriz_L[i][j] = -inv_matriz_L[i][j]\n",
    "    return inv_matriz_L"
   ]
  },
  {
   "cell_type": "code",
   "execution_count": 95,
   "metadata": {},
   "outputs": [
    {
     "name": "stdout",
     "output_type": "stream",
     "text": [
      "Matriz original\n",
      "[[0.60863932 0.33160419 0.84081707]\n",
      " [0.75711992 0.29110183 0.82779243]\n",
      " [0.91158272 0.56229088 0.36157768]]\n",
      "L\n",
      "[[ 1.          0.          0.        ]\n",
      " [ 1.24395499  1.          0.        ]\n",
      " [ 1.49773878 -0.54065106  1.        ]]\n",
      "U\n",
      "[[ 0.60863932  0.33160419  0.84081707]\n",
      " [ 0.         -0.12139886 -0.21814616]\n",
      " [ 0.          0.         -1.0156876 ]]\n",
      "L U\n",
      "[[0.60863932 0.33160419 0.84081707]\n",
      " [0.75711992 0.29110183 0.82779243]\n",
      " [0.91158272 0.56229088 0.36157768]]\n"
     ]
    }
   ],
   "source": [
    "matriz = np.random.rand(3,3)\n",
    "# matriz = np.array([[1, 2, 3],[2, 1, 3],[1, 3, 3] ])\n",
    "print(\"Matriz original\")\n",
    "print(matriz)\n",
    "\n",
    "matrices_gauss, matriz_U = get_matrices_gauss(matriz)\n",
    "matriz_L = np.identity(len(matriz))\n",
    "for j in range(len(matriz)-1):\n",
    "    i =len(matriz) - 2 -j\n",
    "    inv_matriz_L = inversa_matriz_L(matrices_gauss[i])\n",
    "    matriz_L = (inv_matriz_L @ matriz_L)\n",
    "    \n",
    "\n",
    "\n",
    "print(\"L\")\n",
    "print(matriz_L)\n",
    "\n",
    "print(\"U\")\n",
    "print(matriz_U)\n",
    "\n",
    "print(\"L U\")\n",
    "print((matriz_L @ matriz_U))"
   ]
  },
  {
   "cell_type": "markdown",
   "metadata": {},
   "source": [
    "Este método funciona siempre que no encontremos un 0 en un lugara de pivote. En ese caso es necesario permutar filas primero."
   ]
  },
  {
   "cell_type": "markdown",
   "metadata": {},
   "source": [
    "### 1.2 Descomposición de Cholesky\n",
    "\n",
    "La descomposición de Cholesky nos da dos matrices $L - U$ con $U = L^T$ y de forma más eficiente que mediante la triangulación de Gauss. La diferencia es que este método solo se puede utilizar en matrices definidas positivas\n",
    "\n",
    "#### 1.2.1 Definición de matrices definidas positivas\n",
    "\n",
    "Una matriz $A$ se dice definida postiva si\n",
    "$$\n",
    "    x \\cdot Ax > 0 \\quad \\forall x \\neq 0\n",
    "$$"
   ]
  },
  {
   "cell_type": "code",
   "execution_count": 105,
   "metadata": {},
   "outputs": [],
   "source": [
    "def get_descomposicion_cholesky(matriz):\n",
    "    N = len(matriz)\n",
    "    matriz_resultado = np.zeros((N,N))\n",
    "    for k in range(N):\n",
    "        elem_diag = np.sqrt(matriz[k][k] - np.sum(matriz_resultado[k][:k] ** 2))\n",
    "        matriz_resultado[k][k] = elem_diag\n",
    "        for i in range(k+1, N):\n",
    "            elem = (matriz[i][k] - np.sum(matriz_resultado[i][:k] * matriz_resultado[k][:k])) / matriz_resultado[k][k]\n",
    "            matriz_resultado[i][k] = elem \n",
    "    return matriz_resultado "
   ]
  },
  {
   "cell_type": "code",
   "execution_count": 106,
   "metadata": {},
   "outputs": [
    {
     "name": "stdout",
     "output_type": "stream",
     "text": [
      "Matriz A\n",
      "[[0.41357638 0.41664995 0.78720561]\n",
      " [0.41664995 0.703629   0.8793567 ]\n",
      " [0.78720561 0.8793567  1.55286001]]\n",
      "Matriz L\n",
      "[[0.64309904 0.         0.        ]\n",
      " [0.64787835 0.53280639 0.        ]\n",
      " [1.22408146 0.16197408 0.16807436]]\n",
      "L@L^T\n",
      "[[0.41357638 0.41664995 0.78720561]\n",
      " [0.41664995 0.703629   0.8793567 ]\n",
      " [0.78720561 0.8793567  1.55286001]]\n"
     ]
    }
   ],
   "source": [
    "matriz_init = np.random.rand(3,3)\n",
    "matriz = matriz_init @ np.transpose(matriz_init)\n",
    "\n",
    "print(\"Matriz A\")\n",
    "print(matriz)\n",
    "\n",
    "matriz_L = get_descomposicion_cholesky(matriz)\n",
    "\n",
    "print(\"Matriz L\")\n",
    "print(matriz_L)\n",
    "\n",
    "print(\"L@L^T\")\n",
    "print(matriz_L @ np.transpose(matriz_L))\n",
    "\n"
   ]
  },
  {
   "cell_type": "markdown",
   "metadata": {},
   "source": [
    "## 2 Métodos iterativos\n",
    "\n",
    "Dada una matriz $A$ podemos escribila como $A = D + L + U$ con $D$ diagonal, $L$ y $U$ triangulares inferior y superior correspondientemente. Con esto los dos métodos iterativos que vamos a utilizar son de la siguiente forma:\n",
    "$$\n",
    "x^{k+1} = Bx^k + c\n",
    "$$\n",
    "\n",
    "Aprovechando que, si x es solución del sistema $Ax = b$ tiene que satisfacer $Dx = -(L + U)x + b$. Segun como despejemos un $x$ de está igualdad que método vamos a obtener\n",
    "\n",
    "### 2.1 Método de Jacobi y método de Gauss-Seidel:\n",
    "\n",
    "En esté usamos la iteración $x^{k+1} = -D^{-1}(L+U)x^k + D^{-1}b$. Es decir $B = D^{-1}(L+U)$, mientras que $c = D^{-1}b$."
   ]
  },
  {
   "cell_type": "code",
   "execution_count": 40,
   "metadata": {},
   "outputs": [],
   "source": [
    "def get_descomposicion_DLU(matriz):\n",
    "    N = len(matriz)\n",
    "    matriz_D = np.zeros((N,N))\n",
    "    matriz_L = np.zeros((N,N))\n",
    "    matriz_U = np.zeros((N,N))\n",
    "    for i in range(N):\n",
    "        matriz_D[i][i] = matriz[i][i]\n",
    "        for j in range(i):\n",
    "            matriz_L[i][j] = matriz[i][j]\n",
    "        for j in range(i+1, N):\n",
    "            matriz_U[i][j] = matriz[i][j]\n",
    "    return matriz_D, matriz_L, matriz_U\n",
    "\n",
    "def get_solucion_metodo(B, c, x0, b, n_iter):\n",
    "    for i in range(n_iter):\n",
    "        x0 = B @ x0 + c\n",
    "    return x0"
   ]
  },
  {
   "cell_type": "code",
   "execution_count": 87,
   "metadata": {},
   "outputs": [
    {
     "name": "stdout",
     "output_type": "stream",
     "text": [
      "Matriz A\n",
      "[[0.22430898 0.84775709 0.70598728]\n",
      " [0.83551491 0.15522838 0.21232511]\n",
      " [0.66409616 0.44977392 0.39157159]]\n",
      "Radious espectral jacobi\n",
      "5.676624645246759\n",
      "Radious espectral Gauss-Seidel\n",
      "6.429177827721743\n",
      "Solucion Jacobi\n",
      "[6.63673185e+74 7.11765477e+74 3.42304599e+74]\n",
      "Solucion Gauss-Seidel\n",
      "[-2.02400348e+80  1.34509516e+81 -1.20176090e+81]\n",
      "Solucion numpy\n",
      "[ -0.42100335 -11.2235187   14.27530087]\n"
     ]
    }
   ],
   "source": [
    "\n",
    "matriz = np.random.rand(3,3)\n",
    "while(np.max(np.abs(np.linalg.eigvals(matriz))) < 1):\n",
    "    matriz = np.random.rand(3,3)\n",
    "\n",
    "b = np.random.rand(3)\n",
    "x0 = np.random.rand(3)\n",
    "n_iter = 100\n",
    "\n",
    "matriz_D, matriz_L, matriz_U = get_descomposicion_DLU(matriz)\n",
    "B_jacobi = -np.linalg.inv(matriz_D) @ (matriz_L + matriz_U)\n",
    "c_jacobi = np.linalg.inv(matriz_D) @ b\n",
    "B_gauss_seidel = -np.linalg.inv(matriz_D + matriz_L) @ matriz_U\n",
    "c_gauss_seidel = np.linalg.inv(matriz_D + matriz_L) @ b\n",
    "\n",
    "print(\"Matriz A\")\n",
    "print(matriz)\n",
    "print(\"Radious espectral jacobi\")\n",
    "print(np.max(np.abs(np.linalg.eigvals(B_jacobi))))\n",
    "print(\"Radious espectral Gauss-Seidel\")\n",
    "print(np.max(np.abs(np.linalg.eigvals(B_gauss_seidel))))\n",
    "\n",
    "print(\"Solucion Jacobi\")\n",
    "print(get_solucion_metodo(B_jacobi, c_jacobi, x0, b, n_iter))\n",
    "print(\"Solucion Gauss-Seidel\")\n",
    "print(get_solucion_metodo(B_gauss_seidel, c_gauss_seidel, x0, b, n_iter))\n",
    "\n",
    "print(\"Solucion numpy\")\n",
    "print(np.linalg.solve(matriz, b))\n"
   ]
  },
  {
   "cell_type": "markdown",
   "metadata": {},
   "source": [
    "Podemos observar que, para que el método converja, el radio espectral tiene que ser menor a 1."
   ]
  }
 ],
 "metadata": {
  "kernelspec": {
   "display_name": "Python 3",
   "language": "python",
   "name": "python3"
  },
  "language_info": {
   "codemirror_mode": {
    "name": "ipython",
    "version": 3
   },
   "file_extension": ".py",
   "mimetype": "text/x-python",
   "name": "python",
   "nbconvert_exporter": "python",
   "pygments_lexer": "ipython3",
   "version": "3.11.6"
  }
 },
 "nbformat": 4,
 "nbformat_minor": 2
}
