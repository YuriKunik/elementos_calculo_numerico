{
 "cells": [
  {
   "cell_type": "code",
   "execution_count": 96,
   "metadata": {},
   "outputs": [],
   "source": [
    "import numpy as np"
   ]
  },
  {
   "cell_type": "markdown",
   "metadata": {},
   "source": [
    "# Resolución de sistemas lineales\n",
    "\n",
    "## 1 Métodos directos\n",
    "\n",
    "### 1.1 Triangulación de Gauss\n",
    "El objetivo de este metodo va a ser escribir una matriz $A$ inversible como un productoo de matrices $A = LU$ con $L$ triangular inferior y $U$ triangular superior.\n",
    "Para esto vamos a armar $N$ matrices $L_i$\n"
   ]
  },
  {
   "cell_type": "code",
   "execution_count": 94,
   "metadata": {},
   "outputs": [],
   "source": [
    "def get_matrices_gauss(matriz):\n",
    "    matrices_gauss = []\n",
    "    matriz_producto = matriz.copy()\n",
    "    for i in range(len(matriz)-1):\n",
    "        matriz_L = np.identity(len(matriz))\n",
    "        for j in range(i+1, len(matriz)):\n",
    "            m = - matriz_producto[j][i] / matriz_producto[i][i]\n",
    "            matriz_L[j][i] = m\n",
    "        matriz_producto = (matriz_L@matriz_producto)\n",
    "        matrices_gauss.append(matriz_L)\n",
    "    return matrices_gauss, matriz_producto\n",
    "\n",
    "def inversa_matriz_L(matriz_L):\n",
    "    n = len(matriz_L)\n",
    "    inv_matriz_L = matriz_L.copy()\n",
    "    for i in range(n):\n",
    "        for j in range(i):\n",
    "            inv_matriz_L[i][j] = -inv_matriz_L[i][j]\n",
    "    return inv_matriz_L"
   ]
  },
  {
   "cell_type": "code",
   "execution_count": 95,
   "metadata": {},
   "outputs": [
    {
     "name": "stdout",
     "output_type": "stream",
     "text": [
      "Matriz original\n",
      "[[0.60863932 0.33160419 0.84081707]\n",
      " [0.75711992 0.29110183 0.82779243]\n",
      " [0.91158272 0.56229088 0.36157768]]\n",
      "L\n",
      "[[ 1.          0.          0.        ]\n",
      " [ 1.24395499  1.          0.        ]\n",
      " [ 1.49773878 -0.54065106  1.        ]]\n",
      "U\n",
      "[[ 0.60863932  0.33160419  0.84081707]\n",
      " [ 0.         -0.12139886 -0.21814616]\n",
      " [ 0.          0.         -1.0156876 ]]\n",
      "L U\n",
      "[[0.60863932 0.33160419 0.84081707]\n",
      " [0.75711992 0.29110183 0.82779243]\n",
      " [0.91158272 0.56229088 0.36157768]]\n"
     ]
    }
   ],
   "source": [
    "matriz = np.random.rand(3,3)\n",
    "# matriz = np.array([[1, 2, 3],[2, 1, 3],[1, 3, 3] ])\n",
    "print(\"Matriz original\")\n",
    "print(matriz)\n",
    "\n",
    "matrices_gauss, matriz_U = get_matrices_gauss(matriz)\n",
    "matriz_L = np.identity(len(matriz))\n",
    "for j in range(len(matriz)-1):\n",
    "    i =len(matriz) - 2 -j\n",
    "    inv_matriz_L = inversa_matriz_L(matrices_gauss[i])\n",
    "    matriz_L = (inv_matriz_L @ matriz_L)\n",
    "    \n",
    "\n",
    "\n",
    "print(\"L\")\n",
    "print(matriz_L)\n",
    "\n",
    "print(\"U\")\n",
    "print(matriz_U)\n",
    "\n",
    "print(\"L U\")\n",
    "print((matriz_L @ matriz_U))"
   ]
  },
  {
   "cell_type": "markdown",
   "metadata": {},
   "source": [
    "Este método funciona siempre que no encontremos un 0 en un lugara de pivote. En ese caso es necesario permutar filas primero."
   ]
  },
  {
   "cell_type": "markdown",
   "metadata": {},
   "source": [
    "### 1.2 Descomposición de Cholesky\n",
    "\n",
    "La descomposición de Cholesky nos da dos matrices $L - U$ con $U = L^T$ y de forma más eficiente que mediante la triangulación de Gauss. La diferencia es que este método solo se puede utilizar en matrices definidas positivas\n",
    "\n",
    "#### 1.2.1 Definición de matrices definidas positivas\n",
    "\n",
    "Una matriz $A$ se dice definida postiva si\n",
    "$$\n",
    "    x \\cdot Ax > 0 \\quad \\forall x \\neq 0\n",
    "$$"
   ]
  },
  {
   "cell_type": "code",
   "execution_count": 105,
   "metadata": {},
   "outputs": [],
   "source": [
    "def get_descomposicion_cholesky(matriz):\n",
    "    N = len(matriz)\n",
    "    matriz_resultado = np.zeros((N,N))\n",
    "    for k in range(N):\n",
    "        elem_diag = np.sqrt(matriz[k][k] - np.sum(matriz_resultado[k][:k] ** 2))\n",
    "        matriz_resultado[k][k] = elem_diag\n",
    "        for i in range(k+1, N):\n",
    "            elem = (matriz[i][k] - np.sum(matriz_resultado[i][:k] * matriz_resultado[k][:k])) / matriz_resultado[k][k]\n",
    "            matriz_resultado[i][k] = elem \n",
    "    return matriz_resultado "
   ]
  },
  {
   "cell_type": "code",
   "execution_count": 106,
   "metadata": {},
   "outputs": [
    {
     "name": "stdout",
     "output_type": "stream",
     "text": [
      "Matriz A\n",
      "[[0.41357638 0.41664995 0.78720561]\n",
      " [0.41664995 0.703629   0.8793567 ]\n",
      " [0.78720561 0.8793567  1.55286001]]\n",
      "Matriz L\n",
      "[[0.64309904 0.         0.        ]\n",
      " [0.64787835 0.53280639 0.        ]\n",
      " [1.22408146 0.16197408 0.16807436]]\n",
      "L@L^T\n",
      "[[0.41357638 0.41664995 0.78720561]\n",
      " [0.41664995 0.703629   0.8793567 ]\n",
      " [0.78720561 0.8793567  1.55286001]]\n"
     ]
    }
   ],
   "source": [
    "matriz_init = np.random.rand(3,3)\n",
    "matriz = matriz_init @ np.transpose(matriz_init)\n",
    "\n",
    "print(\"Matriz A\")\n",
    "print(matriz)\n",
    "\n",
    "matriz_L = get_descomposicion_cholesky(matriz)\n",
    "\n",
    "print(\"Matriz L\")\n",
    "print(matriz_L)\n",
    "\n",
    "print(\"L@L^T\")\n",
    "print(matriz_L @ np.transpose(matriz_L))\n",
    "\n"
   ]
  }
 ],
 "metadata": {
  "kernelspec": {
   "display_name": "Python 3",
   "language": "python",
   "name": "python3"
  },
  "language_info": {
   "codemirror_mode": {
    "name": "ipython",
    "version": 3
   },
   "file_extension": ".py",
   "mimetype": "text/x-python",
   "name": "python",
   "nbconvert_exporter": "python",
   "pygments_lexer": "ipython3",
   "version": "3.11.4"
  }
 },
 "nbformat": 4,
 "nbformat_minor": 2
}
